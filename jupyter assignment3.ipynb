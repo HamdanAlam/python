{
 "cells": [
  {
   "cell_type": "code",
   "execution_count": 1,
   "id": "cc9e146d",
   "metadata": {},
   "outputs": [
    {
     "name": "stdout",
     "output_type": "stream",
     "text": [
      "Twinkle, twinkle, little star,\n",
      "\tHow I wonder what you are!\n",
      "\t\tUp above the world so high,\n",
      "\t\tLike a diamond in the sky.\n",
      "Twinkle, twinkle, little star,\n",
      "\tHow I wonder what you are\n"
     ]
    }
   ],
   "source": [
    "# Q1 : Write a Python program to print the following string in a specific format\n",
    "print(\"Twinkle, twinkle, little star,\\n\\tHow I wonder what you are!\\n\\t\\tUp above the world so high,\\n\\t\\tLike a diamond in the sky.\\nTwinkle, twinkle, little star,\\n\\tHow I wonder what you are\");"
   ]
  },
  {
   "cell_type": "code",
   "execution_count": 2,
   "id": "2a74c542",
   "metadata": {},
   "outputs": [
    {
     "name": "stdout",
     "output_type": "stream",
     "text": [
      "Python Version\n",
      "3.8.8 (default, Apr 13 2021, 19:58:26) \n",
      "[GCC 7.3.0]\n"
     ]
    }
   ],
   "source": [
    "# Q2 : Write a Python program to get the Python version you are using.\n",
    "\n",
    "import sys\n",
    "print(\"Python Version\");\n",
    "print(sys.version);"
   ]
  },
  {
   "cell_type": "code",
   "execution_count": 3,
   "id": "8c05782e",
   "metadata": {},
   "outputs": [
    {
     "name": "stdout",
     "output_type": "stream",
     "text": [
      "Current Time is :  2021-10-24 15:42:46.058286\n",
      "Date and Time is :  24/10/2021 15:42:46\n"
     ]
    }
   ],
   "source": [
    "# Q3 : Write a Python program to display the current date and time.\n",
    "\n",
    "from datetime import datetime\n",
    "\n",
    "currentTime= datetime.now();\n",
    "print(\"Current Time is : \", currentTime);\n",
    "time=currentTime.strftime(\"%d/%m/%Y %H:%M:%S\");\n",
    "print(\"Date and Time is : \",time);"
   ]
  },
  {
   "cell_type": "code",
   "execution_count": 4,
   "id": "23ea7662",
   "metadata": {},
   "outputs": [
    {
     "name": "stdout",
     "output_type": "stream",
     "text": [
      "Input the radius of the circle : 1.1\n",
      "The area of circle with radius 1.1 is : 3.8013271108436504\n"
     ]
    }
   ],
   "source": [
    "# Q4 : Write a Python program which accepts the radius of a circle from the user and compute the area.\n",
    "\n",
    "from math import pi\n",
    "radius=float(input(\"Input the radius of the circle : \"));\n",
    "print(\"The area of circle with radius \"+ str(radius) +\" is : \" + str(pi * radius**2));"
   ]
  },
  {
   "cell_type": "code",
   "execution_count": 5,
   "id": "bf6defa1",
   "metadata": {},
   "outputs": [
    {
     "name": "stdout",
     "output_type": "stream",
     "text": [
      "Please Enter your First Name : hamdan\n",
      "Please enter your Last Name : alam\n",
      "Hello alam hamdan\n"
     ]
    }
   ],
   "source": [
    "# Q5 : Write a Python program which accepts the user's first and last name and print them in reverse order with a space between them.\n",
    "\n",
    "firstName=input(\"Please Enter your First Name : \");\n",
    "lastName=input(\"Please enter your Last Name : \");\n",
    "print(\"Hello \" +lastName + \" \" +firstName);\n"
   ]
  },
  {
   "cell_type": "code",
   "execution_count": 6,
   "id": "baba9a4b",
   "metadata": {},
   "outputs": [
    {
     "name": "stdout",
     "output_type": "stream",
     "text": [
      "Enter the First number : 2\n",
      "Enter the second Number : 3\n",
      "The sum of two number is :  5\n"
     ]
    }
   ],
   "source": [
    "# Q6 : Write a python program which takes two inputs from user and print them addition\n",
    "\n",
    "firstNumber=int(input(\"Enter the First number : \"));\n",
    "secondNumber=int(input(\"Enter the second Number : \"));\n",
    "total=firstNumber+secondNumber;\n",
    "print(\"The sum of two number is : \",total);"
   ]
  },
  {
   "cell_type": "code",
   "execution_count": 10,
   "id": "1624470d",
   "metadata": {},
   "outputs": [
    {
     "name": "stdout",
     "output_type": "stream",
     "text": [
      "enter the number of English between 0 to 100 78\n",
      "enter the number of Islamiat between 0 to 100 23\n",
      "enter the number of Maths between 0 to 100 32\n",
      "enter the number of physic between 0 to 100 12\n",
      "enter the number of chemistry between 0 to 100 34\n",
      "179 out of 500\n",
      "Your percentage is  35.8\n",
      "Congratulations You Are FAIL\n"
     ]
    }
   ],
   "source": [
    "# Q7 : Write a program which takes 5 inputs from user for different subjects marks, total it and generate mark sheet using grades\n",
    "\n",
    "\n",
    "eng=int(input(\"enter the number of English between 0 to 100 \"));\n",
    "isi=int(input(\"enter the number of Islamiat between 0 to 100 \"));\n",
    "math=int(input(\"enter the number of Maths between 0 to 100 \"));\n",
    "physic=int(input(\"enter the number of physic between 0 to 100 \"));\n",
    "chemistry=int(input(\"enter the number of chemistry between 0 to 100 \"));\n",
    "totalMarks=(eng+isi+math+physic+chemistry);\n",
    "print(totalMarks , \"out of 500\");\n",
    "\n",
    "percentage= (totalMarks/500)*100;\n",
    "print(\"Your percentage is \",percentage);\n",
    "\n",
    "\n",
    "if(percentage>=90):\n",
    "    print(\"And Your Grade: A+\")\n",
    "elif(percentage>=80 and percentage<90):\n",
    "    print(\"And Your Grade is: A\")\n",
    "elif(percentage>=70 and percentage<80):\n",
    "    print(\"And Your Grade is: A\")\n",
    "elif(percentage>=60 and percentage<70):\n",
    "    print(\"And Your Grade is: B\")\n",
    "elif(percentage>=50 and percentage<60):\n",
    "    print(\"And Your Grade is: C\")\n",
    "elif(percentage>=40 and percentage<50):\n",
    "    print(\"And Your Grade is: D\")\n",
    "else:\n",
    "    print(\"Congratulations You Are FAIL\")\n",
    "\n"
   ]
  },
  {
   "cell_type": "code",
   "execution_count": 11,
   "id": "a5498eb6",
   "metadata": {},
   "outputs": [
    {
     "name": "stdout",
     "output_type": "stream",
     "text": [
      "Enter the number : 4\n",
      "Even number\n"
     ]
    }
   ],
   "source": [
    "# Q8 : Write a program which take input from user and identify that the given number is even or odd?\n",
    "\n",
    "num=int(input(\"Enter the number : \"));\n",
    "mod = num%2;\n",
    "if (mod ==0):\n",
    "    print(\"Even number\")\n",
    "else:\n",
    "    print(\"odd number\")"
   ]
  },
  {
   "cell_type": "code",
   "execution_count": 12,
   "id": "6ff12a01",
   "metadata": {},
   "outputs": [
    {
     "name": "stdout",
     "output_type": "stream",
     "text": [
      "lenght of list is :  7\n"
     ]
    }
   ],
   "source": [
    "# Q9 : Write a program which print the length of the list\n",
    "\n",
    "list =[1,2,3,4,\"hello\", \"world\",9];\n",
    "listlen=len(list);\n",
    "print(\"lenght of list is : \" ,listlen);\n"
   ]
  },
  {
   "cell_type": "code",
   "execution_count": 13,
   "id": "bd84e546",
   "metadata": {},
   "outputs": [
    {
     "name": "stdout",
     "output_type": "stream",
     "text": [
      "total sum is :  66\n"
     ]
    }
   ],
   "source": [
    "#Q10 : Write a Python program to sum all the numeric items in a list?\n",
    "\n",
    "ls=[1,2,3,4,5,6,7,8,9,10,11];\n",
    "total=sum(ls);\n",
    "print(\"total sum is : \",total);\n"
   ]
  },
  {
   "cell_type": "code",
   "execution_count": 14,
   "id": "1ea03c54",
   "metadata": {},
   "outputs": [
    {
     "name": "stdout",
     "output_type": "stream",
     "text": [
      "largest elemnt is :  443\n"
     ]
    }
   ],
   "source": [
    "# Q11 : Write a Python program to get the largest number from a numeric list.\n",
    "\n",
    "list1 = [20,23,443,67,98,10,19,56];\n",
    "print(\"largest elemnt is : \", max(list1));"
   ]
  },
  {
   "cell_type": "code",
   "execution_count": 15,
   "id": "9fa33b45",
   "metadata": {},
   "outputs": [
    {
     "name": "stdout",
     "output_type": "stream",
     "text": [
      "[1, 1, 2, 3]\n"
     ]
    }
   ],
   "source": [
    "# Q12 : Write a program that prints out all the elements of the list that are less than 5.\n",
    "\n",
    "a = [1, 1, 2, 3, 5, 8, 13, 21, 34, 55, 89];\n",
    "lista=[];\n",
    "for i in a:\n",
    "    if i<5:\n",
    "        lista.append(i)\n",
    "print(lista)  "
   ]
  },
  {
   "cell_type": "code",
   "execution_count": null,
   "id": "5bcab9e5",
   "metadata": {},
   "outputs": [],
   "source": []
  }
 ],
 "metadata": {
  "kernelspec": {
   "display_name": "Python 3",
   "language": "python",
   "name": "python3"
  },
  "language_info": {
   "codemirror_mode": {
    "name": "ipython",
    "version": 3
   },
   "file_extension": ".py",
   "mimetype": "text/x-python",
   "name": "python",
   "nbconvert_exporter": "python",
   "pygments_lexer": "ipython3",
   "version": "3.8.8"
  }
 },
 "nbformat": 4,
 "nbformat_minor": 5
}
